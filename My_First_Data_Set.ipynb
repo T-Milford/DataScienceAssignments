{
 "cells": [
  {
   "cell_type": "code",
   "execution_count": 1,
   "metadata": {},
   "outputs": [],
   "source": [
    "# 1) load data into pandas data frame\n",
    "# 2) Generate series of visuals of data using pyplot (at least 4: different\n",
    "# types, subplots, etc)  Should be clean and elegant.\n",
    "# 3) 2-3 sentences describing what you think is revealed \n",
    "# save these in Jupiter notebook."
   ]
  },
  {
   "cell_type": "code",
   "execution_count": 17,
   "metadata": {},
   "outputs": [],
   "source": [
    "import pandas as pd\n",
    "import numpy as np\n",
    "import matplotlib.pyplot as plt"
   ]
  },
  {
   "cell_type": "code",
   "execution_count": 18,
   "metadata": {},
   "outputs": [],
   "source": [
    "df = pd.read_csv('unemploy.csv')"
   ]
  },
  {
   "cell_type": "code",
   "execution_count": 20,
   "metadata": {},
   "outputs": [
    {
     "name": "stdout",
     "output_type": "stream",
     "text": [
      "   Total 25-54 unemployment (%)  1981  1982  1983  1984  1985  1986  1987  \\\n",
      "0                     Australia   NaN   NaN   NaN   NaN   NaN   5.8   5.9   \n",
      "1                        Canada   5.9   8.9   9.9   9.7   9.2   8.3   7.7   \n",
      "2                    Czech Rep.   NaN   NaN   NaN   NaN   NaN   NaN   NaN   \n",
      "3                       Estonia   NaN   NaN   NaN   NaN   NaN   NaN   NaN   \n",
      "4                       Finland   3.8   4.2   4.2   3.7   3.8   4.2   4.3   \n",
      "5                        France   5.2   5.7   6.0   7.0   7.7   8.2   8.7   \n",
      "6                       Germany   NaN   NaN   NaN   NaN   NaN   NaN   NaN   \n",
      "7              Hong Kong, China   NaN   NaN   NaN   NaN   2.2   1.8   1.1   \n",
      "8                       Ireland   NaN   NaN  12.5  14.0  15.6  15.5  15.4   \n",
      "9                         Japan   1.8   1.9   2.2   2.2   2.1   2.2   2.3   \n",
      "10                  Korea, Rep.   NaN   NaN   NaN   NaN   NaN   NaN   NaN   \n",
      "11                       Latvia   NaN   NaN   NaN   NaN   NaN   NaN   NaN   \n",
      "12                    Lithuania   NaN   NaN   NaN   NaN   NaN   NaN   NaN   \n",
      "13                  Netherlands   NaN   NaN   NaN   NaN   NaN   NaN   8.3   \n",
      "14                  New Zealand   NaN   NaN   NaN   NaN   NaN   2.8   2.9   \n",
      "15                       Norway   1.5   1.8   2.6   2.6   2.0   1.4   1.5   \n",
      "16                  Philippines   NaN   NaN   NaN   NaN   NaN   7.8   7.4   \n",
      "17                       Poland   NaN   NaN   NaN   NaN   NaN   NaN   NaN   \n",
      "18                     Portugal   NaN   NaN   5.3   5.8   6.2   6.2   5.2   \n",
      "19                      Romania   NaN   NaN   NaN   NaN   NaN   NaN   NaN   \n",
      "20                    Singapore   1.8   1.6   2.1   1.9   3.1   4.8   3.6   \n",
      "21              Slovak Republic   NaN   NaN   NaN   NaN   NaN   NaN   NaN   \n",
      "22                     Slovenia   NaN   NaN   NaN   NaN   NaN   NaN   NaN   \n",
      "23                        Spain   8.9  10.2  11.5  13.8  15.5  15.0  14.9   \n",
      "24                       Sweden   1.7   2.2   2.4   2.2   1.9   1.9   1.6   \n",
      "25                  Switzerland   NaN   NaN   NaN   NaN   NaN   NaN   NaN   \n",
      "26                       Turkey   NaN   NaN   NaN   NaN   NaN   NaN   NaN   \n",
      "27               United Kingdom   NaN   NaN   NaN   NaN   NaN   NaN   NaN   \n",
      "28                United States   5.7   7.8   7.9   6.0   5.8   5.6   5.0   \n",
      "29                          NaN   NaN   NaN   NaN   NaN   NaN   NaN   NaN   \n",
      "\n",
      "    1988  1989  ...       1997  1998  1999  2000  2001  2002  2003  2004  \\\n",
      "0    5.2   4.6  ...   6.400000   6.0   5.4   5.0   5.3   5.1   4.8   4.2   \n",
      "1    6.9   6.8  ...   7.800000   7.0   6.4   5.7   6.2   6.5   6.4   6.0   \n",
      "2    NaN   NaN  ...   4.100000   5.5   7.5   7.7   7.2   6.5   7.0   7.3   \n",
      "3    NaN   NaN  ...        NaN   NaN   NaN  12.9  11.8  10.0   9.4   8.9   \n",
      "4    3.8   2.1  ...  10.700000   9.4   8.5   8.0   7.4   7.3   7.3   7.2   \n",
      "5    8.5   8.2  ...  11.100000  10.7  10.0   8.8   8.1   8.3   8.9   9.1   \n",
      "6    NaN   NaN  ...   8.900000   8.4   7.8   7.3   7.6   8.2   9.5  10.4   \n",
      "7    0.9   0.7  ...   1.700000   3.7   5.0   4.0   4.3   6.3   6.9   5.9   \n",
      "8   15.0  14.4  ...   9.500000   7.3   5.3   4.0   3.3   3.7   4.0   3.9   \n",
      "9    2.0   1.8  ...   2.800000   3.4   4.0   4.0   4.4   4.9   4.7   4.4   \n",
      "10   NaN   NaN  ...   2.100000   6.3   5.8   3.9   3.6   3.0   3.1   3.2   \n",
      "11   NaN   NaN  ...  14.200000  12.9  13.6  14.1  12.4  11.1   9.9   9.8   \n",
      "12   NaN   NaN  ...        NaN  12.8  14.0  15.6  16.5  13.2  11.2  10.4   \n",
      "13   8.2   7.5  ...   4.800000   3.6   2.7   2.4   2.2   2.7   3.8   4.4   \n",
      "14   4.0   5.3  ...   5.300000   6.1   5.4   4.5   4.1   4.0   3.5   2.9   \n",
      "15   2.2   3.8  ...   3.200000   2.3   2.3   2.5   2.7   3.0   3.9   3.9   \n",
      "16   6.3   5.8  ...   5.800000   5.4   5.2   6.1   6.0   6.4   6.4   6.6   \n",
      "17   NaN   NaN  ...  10.000000   9.3  11.9  13.9  15.7  17.5  17.4  16.9   \n",
      "18   4.2   3.8  ...   5.700000   4.5   4.1   3.5   3.5   4.5   5.8   6.1   \n",
      "19   NaN   NaN  ...   4.800000   5.4   6.1   6.6   6.1   7.4   6.3   6.9   \n",
      "20   2.4   1.6  ...   1.900000   3.0   3.8   NaN   3.5   4.6   4.8   4.3   \n",
      "21   NaN   NaN  ...   9.900000  10.2  13.1  15.4  15.9  15.3  15.0  16.0   \n",
      "22   NaN   NaN  ...   5.600000   6.4   6.2   6.1   4.7   5.2   5.8   5.3   \n",
      "23  14.6  13.6  ...  18.200001  16.5  13.8  12.3   9.3  10.2  10.3   9.8   \n",
      "24   1.4   1.2  ...   9.000000   7.6   6.2   4.9   4.0   4.2   4.9   5.5   \n",
      "25   NaN   NaN  ...   4.100000   3.3   2.7   2.3   2.1   2.7   3.7   4.0   \n",
      "26   NaN   5.9  ...   4.600000   4.9   5.8   4.9   6.7   8.6   8.7   8.7   \n",
      "27   NaN   NaN  ...        NaN   NaN   NaN   NaN   3.9   4.1   3.7   3.6   \n",
      "28   4.4   4.2  ...   3.900000   3.5   3.2   3.1   3.8   4.8   5.0   4.6   \n",
      "29   NaN   NaN  ...        NaN   NaN   NaN   NaN   NaN   NaN   NaN   NaN   \n",
      "\n",
      "    2005  Unnamed: 26  \n",
      "0    3.9          NaN  \n",
      "1    5.7          NaN  \n",
      "2    7.4          NaN  \n",
      "3    7.5          NaN  \n",
      "4    6.8          NaN  \n",
      "5    9.1          NaN  \n",
      "6   10.4          NaN  \n",
      "7    4.8          NaN  \n",
      "8    3.7          NaN  \n",
      "9    4.2          NaN  \n",
      "10   3.4          NaN  \n",
      "11   8.2          NaN  \n",
      "12   7.8          NaN  \n",
      "13   4.4          NaN  \n",
      "14   2.7          NaN  \n",
      "15   4.0          NaN  \n",
      "16   5.6          NaN  \n",
      "17  16.0          NaN  \n",
      "18   7.3          NaN  \n",
      "19   6.4          NaN  \n",
      "20   NaN          NaN  \n",
      "21   NaN          NaN  \n",
      "22   5.7          NaN  \n",
      "23   8.0          NaN  \n",
      "24   6.3          NaN  \n",
      "25   3.8          NaN  \n",
      "26   9.5          NaN  \n",
      "27   3.5          NaN  \n",
      "28   4.1          NaN  \n",
      "29   NaN          NaN  \n",
      "\n",
      "[30 rows x 27 columns]\n"
     ]
    }
   ],
   "source": [
    "print(df)"
   ]
  },
  {
   "cell_type": "code",
   "execution_count": 43,
   "metadata": {},
   "outputs": [
    {
     "ename": "ValueError",
     "evalue": "scatter requires x column to be numeric",
     "output_type": "error",
     "traceback": [
      "\u001b[0;31m---------------------------------------------------------------------------\u001b[0m",
      "\u001b[0;31mValueError\u001b[0m                                Traceback (most recent call last)",
      "\u001b[0;32m<ipython-input-43-bac76f940ef7>\u001b[0m in \u001b[0;36m<module>\u001b[0;34m\u001b[0m\n\u001b[1;32m      3\u001b[0m \u001b[0;31m# y = Unemployment rate\u001b[0m\u001b[0;34m\u001b[0m\u001b[0;34m\u001b[0m\u001b[0;34m\u001b[0m\u001b[0m\n\u001b[1;32m      4\u001b[0m \u001b[0mget_ipython\u001b[0m\u001b[0;34m(\u001b[0m\u001b[0;34m)\u001b[0m\u001b[0;34m.\u001b[0m\u001b[0mrun_line_magic\u001b[0m\u001b[0;34m(\u001b[0m\u001b[0;34m'matplotlib'\u001b[0m\u001b[0;34m,\u001b[0m \u001b[0;34m'inline'\u001b[0m\u001b[0;34m)\u001b[0m\u001b[0;34m\u001b[0m\u001b[0;34m\u001b[0m\u001b[0m\n\u001b[0;32m----> 5\u001b[0;31m \u001b[0mdf\u001b[0m\u001b[0;34m.\u001b[0m\u001b[0mplot\u001b[0m\u001b[0;34m(\u001b[0m\u001b[0mx\u001b[0m\u001b[0;34m=\u001b[0m\u001b[0;34m'Total 25-54 unemployment (%)'\u001b[0m\u001b[0;34m,\u001b[0m \u001b[0my\u001b[0m\u001b[0;34m=\u001b[0m\u001b[0;34m'1980'\u001b[0m\u001b[0;34m,\u001b[0m \u001b[0mkind\u001b[0m\u001b[0;34m=\u001b[0m\u001b[0;34m'scatter'\u001b[0m\u001b[0;34m)\u001b[0m\u001b[0;34m\u001b[0m\u001b[0;34m\u001b[0m\u001b[0m\n\u001b[0m",
      "\u001b[0;32m/usr/local/lib/python3.7/site-packages/pandas/plotting/_core.py\u001b[0m in \u001b[0;36m__call__\u001b[0;34m(self, x, y, kind, ax, subplots, sharex, sharey, layout, figsize, use_index, title, grid, legend, style, logx, logy, loglog, xticks, yticks, xlim, ylim, rot, fontsize, colormap, table, yerr, xerr, secondary_y, sort_columns, **kwds)\u001b[0m\n\u001b[1;32m   2940\u001b[0m                           \u001b[0mfontsize\u001b[0m\u001b[0;34m=\u001b[0m\u001b[0mfontsize\u001b[0m\u001b[0;34m,\u001b[0m \u001b[0mcolormap\u001b[0m\u001b[0;34m=\u001b[0m\u001b[0mcolormap\u001b[0m\u001b[0;34m,\u001b[0m \u001b[0mtable\u001b[0m\u001b[0;34m=\u001b[0m\u001b[0mtable\u001b[0m\u001b[0;34m,\u001b[0m\u001b[0;34m\u001b[0m\u001b[0;34m\u001b[0m\u001b[0m\n\u001b[1;32m   2941\u001b[0m                           \u001b[0myerr\u001b[0m\u001b[0;34m=\u001b[0m\u001b[0myerr\u001b[0m\u001b[0;34m,\u001b[0m \u001b[0mxerr\u001b[0m\u001b[0;34m=\u001b[0m\u001b[0mxerr\u001b[0m\u001b[0;34m,\u001b[0m \u001b[0msecondary_y\u001b[0m\u001b[0;34m=\u001b[0m\u001b[0msecondary_y\u001b[0m\u001b[0;34m,\u001b[0m\u001b[0;34m\u001b[0m\u001b[0;34m\u001b[0m\u001b[0m\n\u001b[0;32m-> 2942\u001b[0;31m                           sort_columns=sort_columns, **kwds)\n\u001b[0m\u001b[1;32m   2943\u001b[0m     \u001b[0m__call__\u001b[0m\u001b[0;34m.\u001b[0m\u001b[0m__doc__\u001b[0m \u001b[0;34m=\u001b[0m \u001b[0mplot_frame\u001b[0m\u001b[0;34m.\u001b[0m\u001b[0m__doc__\u001b[0m\u001b[0;34m\u001b[0m\u001b[0;34m\u001b[0m\u001b[0m\n\u001b[1;32m   2944\u001b[0m \u001b[0;34m\u001b[0m\u001b[0m\n",
      "\u001b[0;32m/usr/local/lib/python3.7/site-packages/pandas/plotting/_core.py\u001b[0m in \u001b[0;36mplot_frame\u001b[0;34m(data, x, y, kind, ax, subplots, sharex, sharey, layout, figsize, use_index, title, grid, legend, style, logx, logy, loglog, xticks, yticks, xlim, ylim, rot, fontsize, colormap, table, yerr, xerr, secondary_y, sort_columns, **kwds)\u001b[0m\n\u001b[1;32m   1971\u001b[0m                  \u001b[0myerr\u001b[0m\u001b[0;34m=\u001b[0m\u001b[0myerr\u001b[0m\u001b[0;34m,\u001b[0m \u001b[0mxerr\u001b[0m\u001b[0;34m=\u001b[0m\u001b[0mxerr\u001b[0m\u001b[0;34m,\u001b[0m\u001b[0;34m\u001b[0m\u001b[0;34m\u001b[0m\u001b[0m\n\u001b[1;32m   1972\u001b[0m                  \u001b[0msecondary_y\u001b[0m\u001b[0;34m=\u001b[0m\u001b[0msecondary_y\u001b[0m\u001b[0;34m,\u001b[0m \u001b[0msort_columns\u001b[0m\u001b[0;34m=\u001b[0m\u001b[0msort_columns\u001b[0m\u001b[0;34m,\u001b[0m\u001b[0;34m\u001b[0m\u001b[0;34m\u001b[0m\u001b[0m\n\u001b[0;32m-> 1973\u001b[0;31m                  **kwds)\n\u001b[0m\u001b[1;32m   1974\u001b[0m \u001b[0;34m\u001b[0m\u001b[0m\n\u001b[1;32m   1975\u001b[0m \u001b[0;34m\u001b[0m\u001b[0m\n",
      "\u001b[0;32m/usr/local/lib/python3.7/site-packages/pandas/plotting/_core.py\u001b[0m in \u001b[0;36m_plot\u001b[0;34m(data, x, y, subplots, ax, kind, **kwds)\u001b[0m\n\u001b[1;32m   1738\u001b[0m         \u001b[0;32mif\u001b[0m \u001b[0misinstance\u001b[0m\u001b[0;34m(\u001b[0m\u001b[0mdata\u001b[0m\u001b[0;34m,\u001b[0m \u001b[0mABCDataFrame\u001b[0m\u001b[0;34m)\u001b[0m\u001b[0;34m:\u001b[0m\u001b[0;34m\u001b[0m\u001b[0;34m\u001b[0m\u001b[0m\n\u001b[1;32m   1739\u001b[0m             plot_obj = klass(data, x=x, y=y, subplots=subplots, ax=ax,\n\u001b[0;32m-> 1740\u001b[0;31m                              kind=kind, **kwds)\n\u001b[0m\u001b[1;32m   1741\u001b[0m         \u001b[0;32melse\u001b[0m\u001b[0;34m:\u001b[0m\u001b[0;34m\u001b[0m\u001b[0;34m\u001b[0m\u001b[0m\n\u001b[1;32m   1742\u001b[0m             raise ValueError(\"plot kind %r can only be used for data frames\"\n",
      "\u001b[0;32m/usr/local/lib/python3.7/site-packages/pandas/plotting/_core.py\u001b[0m in \u001b[0;36m__init__\u001b[0;34m(self, data, x, y, s, c, **kwargs)\u001b[0m\n\u001b[1;32m    858\u001b[0m             \u001b[0;31m# the handling of this argument later\u001b[0m\u001b[0;34m\u001b[0m\u001b[0;34m\u001b[0m\u001b[0;34m\u001b[0m\u001b[0m\n\u001b[1;32m    859\u001b[0m             \u001b[0ms\u001b[0m \u001b[0;34m=\u001b[0m \u001b[0;36m20\u001b[0m\u001b[0;34m\u001b[0m\u001b[0;34m\u001b[0m\u001b[0m\n\u001b[0;32m--> 860\u001b[0;31m         \u001b[0msuper\u001b[0m\u001b[0;34m(\u001b[0m\u001b[0mScatterPlot\u001b[0m\u001b[0;34m,\u001b[0m \u001b[0mself\u001b[0m\u001b[0;34m)\u001b[0m\u001b[0;34m.\u001b[0m\u001b[0m__init__\u001b[0m\u001b[0;34m(\u001b[0m\u001b[0mdata\u001b[0m\u001b[0;34m,\u001b[0m \u001b[0mx\u001b[0m\u001b[0;34m,\u001b[0m \u001b[0my\u001b[0m\u001b[0;34m,\u001b[0m \u001b[0ms\u001b[0m\u001b[0;34m=\u001b[0m\u001b[0ms\u001b[0m\u001b[0;34m,\u001b[0m \u001b[0;34m**\u001b[0m\u001b[0mkwargs\u001b[0m\u001b[0;34m)\u001b[0m\u001b[0;34m\u001b[0m\u001b[0;34m\u001b[0m\u001b[0m\n\u001b[0m\u001b[1;32m    861\u001b[0m         \u001b[0;32mif\u001b[0m \u001b[0mis_integer\u001b[0m\u001b[0;34m(\u001b[0m\u001b[0mc\u001b[0m\u001b[0;34m)\u001b[0m \u001b[0;32mand\u001b[0m \u001b[0;32mnot\u001b[0m \u001b[0mself\u001b[0m\u001b[0;34m.\u001b[0m\u001b[0mdata\u001b[0m\u001b[0;34m.\u001b[0m\u001b[0mcolumns\u001b[0m\u001b[0;34m.\u001b[0m\u001b[0mholds_integer\u001b[0m\u001b[0;34m(\u001b[0m\u001b[0;34m)\u001b[0m\u001b[0;34m:\u001b[0m\u001b[0;34m\u001b[0m\u001b[0;34m\u001b[0m\u001b[0m\n\u001b[1;32m    862\u001b[0m             \u001b[0mc\u001b[0m \u001b[0;34m=\u001b[0m \u001b[0mself\u001b[0m\u001b[0;34m.\u001b[0m\u001b[0mdata\u001b[0m\u001b[0;34m.\u001b[0m\u001b[0mcolumns\u001b[0m\u001b[0;34m[\u001b[0m\u001b[0mc\u001b[0m\u001b[0;34m]\u001b[0m\u001b[0;34m\u001b[0m\u001b[0;34m\u001b[0m\u001b[0m\n",
      "\u001b[0;32m/usr/local/lib/python3.7/site-packages/pandas/plotting/_core.py\u001b[0m in \u001b[0;36m__init__\u001b[0;34m(self, data, x, y, **kwargs)\u001b[0m\n\u001b[1;32m    802\u001b[0m             \u001b[0my\u001b[0m \u001b[0;34m=\u001b[0m \u001b[0mself\u001b[0m\u001b[0;34m.\u001b[0m\u001b[0mdata\u001b[0m\u001b[0;34m.\u001b[0m\u001b[0mcolumns\u001b[0m\u001b[0;34m[\u001b[0m\u001b[0my\u001b[0m\u001b[0;34m]\u001b[0m\u001b[0;34m\u001b[0m\u001b[0;34m\u001b[0m\u001b[0m\n\u001b[1;32m    803\u001b[0m         \u001b[0;32mif\u001b[0m \u001b[0mlen\u001b[0m\u001b[0;34m(\u001b[0m\u001b[0mself\u001b[0m\u001b[0;34m.\u001b[0m\u001b[0mdata\u001b[0m\u001b[0;34m[\u001b[0m\u001b[0mx\u001b[0m\u001b[0;34m]\u001b[0m\u001b[0;34m.\u001b[0m\u001b[0m_get_numeric_data\u001b[0m\u001b[0;34m(\u001b[0m\u001b[0;34m)\u001b[0m\u001b[0;34m)\u001b[0m \u001b[0;34m==\u001b[0m \u001b[0;36m0\u001b[0m\u001b[0;34m:\u001b[0m\u001b[0;34m\u001b[0m\u001b[0;34m\u001b[0m\u001b[0m\n\u001b[0;32m--> 804\u001b[0;31m             \u001b[0;32mraise\u001b[0m \u001b[0mValueError\u001b[0m\u001b[0;34m(\u001b[0m\u001b[0mself\u001b[0m\u001b[0;34m.\u001b[0m\u001b[0m_kind\u001b[0m \u001b[0;34m+\u001b[0m \u001b[0;34m' requires x column to be numeric'\u001b[0m\u001b[0;34m)\u001b[0m\u001b[0;34m\u001b[0m\u001b[0;34m\u001b[0m\u001b[0m\n\u001b[0m\u001b[1;32m    805\u001b[0m         \u001b[0;32mif\u001b[0m \u001b[0mlen\u001b[0m\u001b[0;34m(\u001b[0m\u001b[0mself\u001b[0m\u001b[0;34m.\u001b[0m\u001b[0mdata\u001b[0m\u001b[0;34m[\u001b[0m\u001b[0my\u001b[0m\u001b[0;34m]\u001b[0m\u001b[0;34m.\u001b[0m\u001b[0m_get_numeric_data\u001b[0m\u001b[0;34m(\u001b[0m\u001b[0;34m)\u001b[0m\u001b[0;34m)\u001b[0m \u001b[0;34m==\u001b[0m \u001b[0;36m0\u001b[0m\u001b[0;34m:\u001b[0m\u001b[0;34m\u001b[0m\u001b[0;34m\u001b[0m\u001b[0m\n\u001b[1;32m    806\u001b[0m             \u001b[0;32mraise\u001b[0m \u001b[0mValueError\u001b[0m\u001b[0;34m(\u001b[0m\u001b[0mself\u001b[0m\u001b[0;34m.\u001b[0m\u001b[0m_kind\u001b[0m \u001b[0;34m+\u001b[0m \u001b[0;34m' requires y column to be numeric'\u001b[0m\u001b[0;34m)\u001b[0m\u001b[0;34m\u001b[0m\u001b[0;34m\u001b[0m\u001b[0m\n",
      "\u001b[0;31mValueError\u001b[0m: scatter requires x column to be numeric"
     ]
    }
   ],
   "source": [
    "#label x and y axes\n",
    "# x = Year\n",
    "# y = Unemployment rate\n",
    "%matplotlib inline\n",
    "df.plot(x='Total 25-54 unemployment (%)', y='1980', kind='scatter')"
   ]
  },
  {
   "cell_type": "code",
   "execution_count": null,
   "metadata": {},
   "outputs": [],
   "source": []
  },
  {
   "cell_type": "code",
   "execution_count": null,
   "metadata": {},
   "outputs": [],
   "source": []
  }
 ],
 "metadata": {
  "kernelspec": {
   "display_name": "Python 3",
   "language": "python",
   "name": "python3"
  },
  "language_info": {
   "codemirror_mode": {
    "name": "ipython",
    "version": 3
   },
   "file_extension": ".py",
   "mimetype": "text/x-python",
   "name": "python",
   "nbconvert_exporter": "python",
   "pygments_lexer": "ipython3",
   "version": "3.7.3"
  }
 },
 "nbformat": 4,
 "nbformat_minor": 2
}
